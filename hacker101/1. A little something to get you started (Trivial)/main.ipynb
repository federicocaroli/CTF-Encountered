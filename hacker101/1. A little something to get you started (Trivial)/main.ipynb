{
 "cells": [
  {
   "cell_type": "markdown",
   "metadata": {},
   "source": [
    "## A little something to get you started (Trivial) - Captured flags: 1/1"
   ]
  },
  {
   "cell_type": "code",
   "execution_count": null,
   "metadata": {},
   "outputs": [],
   "source": [
    "import requests, time\n",
    "\n",
    "url = \"https://030bd37e691b5d0cfbeacbffc1c7a875.ctf.hacker101.com/\" # Home page\n",
    "\n",
    "response = requests.get(url)\n",
    "print(response.text)\n",
    "time.sleep(1) # Wait for 1 second before sending the next request"
   ]
  },
  {
   "cell_type": "markdown",
   "metadata": {},
   "source": [
    "Response:\n",
    "\n",
    "```html\n",
    "<!doctype html>\n",
    "<html>\n",
    "    <head>\n",
    "        <style>\n",
    "            body {\n",
    "                background-image: url(\"background.png\");\n",
    "            }\n",
    "        </style>\n",
    "    </head>\n",
    "    <body>\n",
    "        <p>Welcome to level 0.  Enjoy your stay.</p>\n",
    "    </body>\n",
    "</html>\n",
    "```\n",
    "\n",
    "\n",
    "What is the content of the background image? The background of the home page is completely white. Let's request it!"
   ]
  },
  {
   "cell_type": "code",
   "execution_count": null,
   "metadata": {},
   "outputs": [],
   "source": [
    "response = requests.get(url + \"background.png\")\n",
    "print(response.text)"
   ]
  },
  {
   "cell_type": "markdown",
   "metadata": {},
   "source": [
    "Response:\n",
    "\n",
    "```^FLAG^...$FLAG$```"
   ]
  }
 ],
 "metadata": {
  "kernelspec": {
   "display_name": "microlog",
   "language": "python",
   "name": "python3"
  },
  "language_info": {
   "name": "python",
   "version": "3.12.8"
  }
 },
 "nbformat": 4,
 "nbformat_minor": 2
}
